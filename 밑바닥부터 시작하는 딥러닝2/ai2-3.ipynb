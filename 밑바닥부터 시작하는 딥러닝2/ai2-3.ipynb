{
 "cells": [
  {
   "cell_type": "code",
   "execution_count": 6,
   "metadata": {},
   "outputs": [
    {
     "name": "stdout",
     "output_type": "stream",
     "text": [
      "[[-0.60366181  0.16809798  0.3096128 ]\n",
      " [ 0.30535502 -0.55814516 -1.44096442]\n",
      " [ 0.70978053 -1.21075372 -0.05929037]\n",
      " [ 1.33691378  0.96876314 -0.56333257]\n",
      " [ 0.75922991 -0.11355561 -2.07197189]\n",
      " [-1.52603033 -0.05897114  0.38463063]\n",
      " [-0.48794978 -1.97427366  1.70992742]]\n",
      "--------------------------------\n",
      "[[-0.60366181  0.16809798  0.3096128 ]\n",
      " [ 0.70978053 -1.21075372 -0.05929037]\n",
      " [-0.48794978 -1.97427366  1.70992742]]\n"
     ]
    }
   ],
   "source": [
    "import numpy as np\n",
    "\n",
    "C = np.array(\n",
    "    [\n",
    "        [1,0,0,0,0,0,0],\n",
    "        [0,0,1,0,0,0,0],\n",
    "        [0,0,0,0,0,0,1]\n",
    "    ]\n",
    ")\n",
    "W = np.random.randn(7,3)\n",
    "\n",
    "print(C.shape)\n",
    "print(W.shape)\n",
    "\n",
    "H = np.dot(C,W)\n",
    "\n",
    "print(W)\n",
    "print(\"--------------------------------\")\n",
    "print(H)"
   ]
  },
  {
   "cell_type": "code",
   "execution_count": 8,
   "metadata": {},
   "outputs": [
    {
     "name": "stdout",
     "output_type": "stream",
     "text": [
      "[[ 1.63713371  1.06970676 -0.96987425]\n",
      " [ 0.14050255 -0.83995006  0.2482509 ]\n",
      " [ 0.69397294  1.39937413 -0.47320753]\n",
      " [-1.64233857  0.71926946  2.72786475]\n",
      " [-0.89016513  0.55398088 -0.58383881]\n",
      " [ 0.88485649 -1.29567572 -0.3921314 ]\n",
      " [-1.24993195  0.99603214 -1.49792002]]\n",
      "--------------------------------\n",
      "[[ 1.63713371  1.06970676 -0.96987425]]\n"
     ]
    }
   ],
   "source": [
    "import sys\n",
    "sys.path.append('./deep')\n",
    "\n",
    "import numpy as np\n",
    "from common.layers import MatMul\n",
    "\n",
    "C = np.array([[1,0,0,0,0,0,0]])\n",
    "W = np.random.randn(7,3)\n",
    "\n",
    "layer = MatMul(W)\n",
    "H = layer.forward(C)\n",
    "\n",
    "print(W)\n",
    "print(\"--------------------------------\")\n",
    "print(H)\n"
   ]
  },
  {
   "cell_type": "code",
   "execution_count": 10,
   "metadata": {},
   "outputs": [
    {
     "name": "stdout",
     "output_type": "stream",
     "text": [
      "[[-1.41285845  0.06807981 -0.29579496]]\n",
      "[[-0.06705597  0.76883585 -0.03233666]]\n",
      "[[-0.73995721  0.41845783 -0.16406581]]\n",
      "--------------------------------\n",
      "[[-1.46741015 -0.5378692  -0.65784142 -0.38909757 -0.55704964  0.98229929\n",
      "  -0.59082937]]\n"
     ]
    }
   ],
   "source": [
    "import sys\n",
    "\n",
    "sys.path.append('./deep')\n",
    "\n",
    "import numpy as np\n",
    "from common.layers import MatMul\n",
    "\n",
    "C0 = np.array([[1,0,0,0,0,0,0]])\n",
    "C1 = np.array([[0,0,1,0,0,0,0]])\n",
    "W_in = np.random.randn(7,3)\n",
    "W_out = np.random.randn(3,7)\n",
    "\n",
    "in_layer0 = MatMul(W_in)\n",
    "in_layer1 = MatMul(W_in)\n",
    "out_layer = MatMul(W_out)\n",
    "\n",
    "h0 = in_layer0.forward(C0)\n",
    "h1 = in_layer1.forward(C1)\n",
    "h = 0.5 * (h0 + h1)\n",
    "s = out_layer.forward(h)\n",
    "\n",
    "print(h0)\n",
    "print(h1)\n",
    "print(h)\n",
    "print(\"--------------------------------\")\n",
    "print(s)"
   ]
  },
  {
   "cell_type": "code",
   "execution_count": null,
   "metadata": {},
   "outputs": [],
   "source": []
  }
 ],
 "metadata": {
  "kernelspec": {
   "display_name": "Python 3",
   "language": "python",
   "name": "python3"
  },
  "language_info": {
   "codemirror_mode": {
    "name": "ipython",
    "version": 3
   },
   "file_extension": ".py",
   "mimetype": "text/x-python",
   "name": "python",
   "nbconvert_exporter": "python",
   "pygments_lexer": "ipython3",
   "version": "3.9.13"
  }
 },
 "nbformat": 4,
 "nbformat_minor": 2
}
